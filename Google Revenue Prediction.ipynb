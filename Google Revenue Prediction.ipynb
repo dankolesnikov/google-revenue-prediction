{
 "cells": [
  {
   "cell_type": "markdown",
   "metadata": {},
   "source": [
    "# Google Revenue Prediction\n",
    "\n",
    "## Kaggle Challenge Description"
   ]
  },
  {
   "cell_type": "markdown",
   "metadata": {},
   "source": [
    "## What are we predicting?\n",
    "We are predicting the **natural log** of the sum of all transactions **per user**.\n",
    "\n",
    "$$ y_{user} = \\sum_{i=1}^n transaction_{user_{i}} $$\n",
    "$$ target_{user} = ln(y_{user} + 1) $$"
   ]
  },
  {
   "cell_type": "markdown",
   "metadata": {},
   "source": [
    "## Data Cleansing \n",
    "\n",
    "Simply change csv_file to either \"test_v2.csv\" or \"train_v2.csv\" to determine which csv to use. Using \"test_v2.csv\" will make it easier to manage for your system."
   ]
  },
  {
   "cell_type": "code",
   "execution_count": 1,
   "metadata": {},
   "outputs": [
    {
     "name": "stderr",
     "output_type": "stream",
     "text": [
      "/usr/local/lib/python3.7/site-packages/lightgbm/__init__.py:46: UserWarning: Starting from version 2.2.1, the library file in distribution wheels for macOS is built by the Apple Clang (Xcode_8.3.1) compiler.\n",
      "This means that in case of installing LightGBM from PyPI via the ``pip install lightgbm`` command, you don't need to install the gcc compiler anymore.\n",
      "Instead of that, you need to install the OpenMP library, which is required for running LightGBM on the system with the Apple Clang compiler.\n",
      "You can install the OpenMP library by the following command: ``brew install libomp``.\n",
      "  \"You can install the OpenMP library by the following command: ``brew install libomp``.\", UserWarning)\n"
     ]
    },
    {
     "ename": "ModuleNotFoundError",
     "evalue": "No module named 'seaborn'",
     "output_type": "error",
     "traceback": [
      "\u001b[0;31m---------------------------------------------------------------------------\u001b[0m",
      "\u001b[0;31mModuleNotFoundError\u001b[0m                       Traceback (most recent call last)",
      "\u001b[0;32m<timed exec>\u001b[0m in \u001b[0;36m<module>\u001b[0;34m\u001b[0m\n",
      "\u001b[0;31mModuleNotFoundError\u001b[0m: No module named 'seaborn'"
     ]
    }
   ],
   "source": [
    "%%time\n",
    "import pandas as pd\n",
    "import sklearn\n",
    "from sklearn import model_selection, preprocessing, metrics\n",
    "import json\n",
    "import os\n",
    "import matplotlib\n",
    "import matplotlib.pyplot as plt\n",
    "from pandas.io.json import json_normalize\n",
    "import numpy as np\n",
    "import lightgbm as lgb\n",
    "import seaborn as sns\n",
    "from sklearn.metrics import mean_squared_error\n",
    "\n"
   ]
  },
  {
   "cell_type": "code",
   "execution_count": 2,
   "metadata": {},
   "outputs": [
    {
     "name": "stdout",
     "output_type": "stream",
     "text": [
      "Loading csv file\n",
      "Loading csv file\n",
      "Loading done.\n",
      "CPU times: user 13min 17s, sys: 12min 2s, total: 25min 19s\n",
      "Wall time: 30min 16s\n"
     ]
    }
   ],
   "source": [
    "%%time\n",
    "data = 'data'\n",
    "def load_csv(data, csv_file, nrows):\n",
    "    JSON_COLUMNS = ['device', 'geoNetwork', 'totals', 'trafficSource']\n",
    "    print(\"Loading csv file\")\n",
    "    df = pd.read_csv(os.path.join(os.getcwd(),data,csv_file),\n",
    "                    converters={column: json.loads for column in JSON_COLUMNS},\n",
    "                    dtype={'fullVisitorId': 'str'},\n",
    "                    nrows=nrows)\n",
    "\n",
    "    for column in JSON_COLUMNS:\n",
    "        column_as_df = json_normalize(df[column])\n",
    "        column_as_df.columns = [\"%s.%s\" % (column, subcolumn) for subcolumn in column_as_df.columns]\n",
    "        df = df.drop(column, axis=1).merge(column_as_df, right_index=True, left_index=True)\n",
    "#      Convert feature type\n",
    "    df[\"totals.transactionRevenue\"] = df[\"totals.transactionRevenue\"].astype('float')\n",
    "    \n",
    "    return df\n",
    "\n",
    "# Load both the training csv and testing csv\n",
    "train_df = load_csv(data, \"train_v2.csv\",None)\n",
    "test_df = load_csv(data, \"test_v2.csv\", None)\n",
    "\n",
    "print(\"Loading done.\")\n"
   ]
  },
  {
   "cell_type": "markdown",
   "metadata": {},
   "source": [
    "## Columns and Types\n",
    "Initially we should dissect the data and learn what columns are found inside the csv file."
   ]
  },
  {
   "cell_type": "code",
   "execution_count": 3,
   "metadata": {},
   "outputs": [
    {
     "data": {
      "text/plain": [
       "channelGrouping                                       object\n",
       "customDimensions                                      object\n",
       "date                                                   int64\n",
       "fullVisitorId                                         object\n",
       "hits                                                  object\n",
       "socialEngagementType                                  object\n",
       "visitId                                                int64\n",
       "visitNumber                                            int64\n",
       "visitStartTime                                         int64\n",
       "device.browser                                        object\n",
       "device.browserSize                                    object\n",
       "device.browserVersion                                 object\n",
       "device.deviceCategory                                 object\n",
       "device.flashVersion                                   object\n",
       "device.isMobile                                         bool\n",
       "device.language                                       object\n",
       "device.mobileDeviceBranding                           object\n",
       "device.mobileDeviceInfo                               object\n",
       "device.mobileDeviceMarketingName                      object\n",
       "device.mobileDeviceModel                              object\n",
       "device.mobileInputSelector                            object\n",
       "device.operatingSystem                                object\n",
       "device.operatingSystemVersion                         object\n",
       "device.screenColors                                   object\n",
       "device.screenResolution                               object\n",
       "geoNetwork.city                                       object\n",
       "geoNetwork.cityId                                     object\n",
       "geoNetwork.continent                                  object\n",
       "geoNetwork.country                                    object\n",
       "geoNetwork.latitude                                   object\n",
       "geoNetwork.longitude                                  object\n",
       "geoNetwork.metro                                      object\n",
       "geoNetwork.networkDomain                              object\n",
       "geoNetwork.networkLocation                            object\n",
       "geoNetwork.region                                     object\n",
       "geoNetwork.subContinent                               object\n",
       "totals.bounces                                        object\n",
       "totals.hits                                           object\n",
       "totals.newVisits                                      object\n",
       "totals.pageviews                                      object\n",
       "totals.sessionQualityDim                              object\n",
       "totals.timeOnSite                                     object\n",
       "totals.totalTransactionRevenue                        object\n",
       "totals.transactionRevenue                            float64\n",
       "totals.transactions                                   object\n",
       "totals.visits                                         object\n",
       "trafficSource.adContent                               object\n",
       "trafficSource.adwordsClickInfo.adNetworkType          object\n",
       "trafficSource.adwordsClickInfo.criteriaParameters     object\n",
       "trafficSource.adwordsClickInfo.gclId                  object\n",
       "trafficSource.adwordsClickInfo.isVideoAd              object\n",
       "trafficSource.adwordsClickInfo.page                   object\n",
       "trafficSource.adwordsClickInfo.slot                   object\n",
       "trafficSource.campaign                                object\n",
       "trafficSource.campaignCode                            object\n",
       "trafficSource.isTrueDirect                            object\n",
       "trafficSource.keyword                                 object\n",
       "trafficSource.medium                                  object\n",
       "trafficSource.referralPath                            object\n",
       "trafficSource.source                                  object\n",
       "dtype: object"
      ]
     },
     "execution_count": 3,
     "metadata": {},
     "output_type": "execute_result"
    }
   ],
   "source": [
    "train_df.dtypes"
   ]
  },
  {
   "cell_type": "markdown",
   "metadata": {},
   "source": [
    "## Feature Engineering and Data Exploration"
   ]
  },
  {
   "cell_type": "markdown",
   "metadata": {},
   "source": [
    "Create 4 additional features from *date* feature: year, month, day, weekday. We will use those to better understand our data."
   ]
  },
  {
   "cell_type": "code",
   "execution_count": 4,
   "metadata": {},
   "outputs": [],
   "source": [
    "def add_time_features(df):\n",
    "    df['date'] = pd.to_datetime(df['date'], format='%Y%m%d', errors='ignore')\n",
    "    df['year'] = df['date'].apply(lambda x: x.year)\n",
    "    df['month'] = df['date'].apply(lambda x: x.month)\n",
    "    df['day'] = df['date'].apply(lambda x: x.day)\n",
    "    df['weekday'] = df['date'].apply(lambda x: x.weekday())\n",
    "    return df\n",
    "add_time_features(test_df)\n",
    "temp_df = add_time_features(train_df)"
   ]
  },
  {
   "cell_type": "markdown",
   "metadata": {},
   "source": [
    "## Data Exploration\n",
    "\n"
   ]
  },
  {
   "cell_type": "markdown",
   "metadata": {},
   "source": [
    "Group date by date, year, month, day, weekday and aggregate by count/sum."
   ]
  },
  {
   "cell_type": "code",
   "execution_count": 5,
   "metadata": {},
   "outputs": [],
   "source": [
    "time_agg = train_df.groupby('date')['totals.transactionRevenue'].agg(['count', 'sum'])\n",
    "year_agg = train_df.groupby('year')['totals.transactionRevenue'].agg(['sum'])\n",
    "month_agg = train_df.groupby('month')['totals.transactionRevenue'].agg(['sum'])\n",
    "day_agg = train_df.groupby('day')['totals.transactionRevenue'].agg(['sum'])\n",
    "weekday_agg = train_df.groupby('weekday')['totals.transactionRevenue'].agg(['count','sum'])"
   ]
  },
  {
   "cell_type": "markdown",
   "metadata": {},
   "source": [
    "### Target Variable Exploration\n",
    "\n",
    "We need to sum up the transaction revenue on the user level. Then graph a scatter plot of the natural log.\n"
   ]
  },
  {
   "cell_type": "code",
   "execution_count": 6,
   "metadata": {},
   "outputs": [
    {
     "data": {
      "image/png": "[encoded data removed]",
      "text/plain": [
       "<Figure size 576x432 with 1 Axes>"
      ]
     },
     "metadata": {
      "needs_background": "light"
     },
     "output_type": "display_data"
    }
   ],
   "source": [
    "train_df[\"totals.transactionRevenue\"] = train_df[\"totals.transactionRevenue\"].astype('float')\n",
    "gdf = train_df.groupby(\"fullVisitorId\")[\"totals.transactionRevenue\"].sum().reset_index()\n",
    "\n",
    "plt.figure(figsize=(8,6))\n",
    "plt.scatter(range(gdf.shape[0]), np.sort(np.log1p(gdf[\"totals.transactionRevenue\"].values)))\n",
    "plt.xlabel('Customer', fontsize=12)\n",
    "plt.ylabel('TransactionRevenue', fontsize=12)\n",
    "plt.show()"
   ]
  },
  {
   "cell_type": "markdown",
   "metadata": {},
   "source": [
    "The scatter plot above confirms the 80/20 marketing principle that states 80% of the profits come from 20% of the customers.\n",
    "\n",
    "From this analysis, this would mean that we have a distinct dataset between customers with TransactionRevenue and customers without TransactionRevenue.\n"
   ]
  },
  {
   "cell_type": "markdown",
   "metadata": {},
   "source": [
    "**Sum of transactionRevenue, our target, through the time.**"
   ]
  },
  {
   "cell_type": "code",
   "execution_count": 7,
   "metadata": {},
   "outputs": [
    {
     "data": {
      "image/png": "[encoded data removed]",
      "text/plain": [
       "<Figure size 1440x504 with 1 Axes>"
      ]
     },
     "metadata": {
      "needs_background": "light"
     },
     "output_type": "display_data"
    }
   ],
   "source": [
    "plt.figure(figsize=(20,7))\n",
    "plt.ticklabel_format(axis='y', style='plain')\n",
    "plt.ylabel('transactionRevenue Sum', fontsize=12)\n",
    "plt.xlabel('Date', fontsize=12)\n",
    "plt.scatter(time_agg.index.values, time_agg['sum'])\n",
    "plt.show()"
   ]
  },
  {
   "cell_type": "markdown",
   "metadata": {},
   "source": [
    "**Count of transactionRevenue our target, through the same time period.**"
   ]
  },
  {
   "cell_type": "code",
   "execution_count": 8,
   "metadata": {},
   "outputs": [
    {
     "data": {
      "image/png": "[encoded data removed]",
      "text/plain": [
       "<Figure size 1440x504 with 1 Axes>"
      ]
     },
     "metadata": {
      "needs_background": "light"
     },
     "output_type": "display_data"
    }
   ],
   "source": [
    "plt.figure(figsize=(20,7))\n",
    "plt.ticklabel_format(axis='y', style='plain')\n",
    "plt.ylabel('Frequency', fontsize=12)\n",
    "plt.xlabel('Date', fontsize=12)\n",
    "plt.scatter(time_agg.index.values, time_agg['count'])\n",
    "plt.show()"
   ]
  },
  {
   "cell_type": "markdown",
   "metadata": {},
   "source": [
    "### Analyze engineered time features"
   ]
  },
  {
   "cell_type": "markdown",
   "metadata": {},
   "source": [
    "**Sum of transactionRevenue over each year**"
   ]
  },
  {
   "cell_type": "code",
   "execution_count": 9,
   "metadata": {},
   "outputs": [
    {
     "data": {
      "image/png": "[encoded data removed]",
      "text/plain": [
       "<Figure size 1440x504 with 1 Axes>"
      ]
     },
     "metadata": {
      "needs_background": "light"
     },
     "output_type": "display_data"
    }
   ],
   "source": [
    "plt.figure(figsize=(20,7))\n",
    "plt.ticklabel_format(axis='y', style='plain')\n",
    "plt.xlabel('Year', fontsize=12)\n",
    "plt.locator_params(nbins=2)\n",
    "plt.scatter(year_agg.index.values, year_agg['sum'])\n",
    "plt.show()"
   ]
  },
  {
   "cell_type": "markdown",
   "metadata": {},
   "source": [
    "**Insight:** There is a large increase from 2016 to 2017."
   ]
  },
  {
   "cell_type": "markdown",
   "metadata": {},
   "source": [
    "**Sum of transactionRevenue over monthly period**"
   ]
  },
  {
   "cell_type": "markdown",
   "metadata": {},
   "source": [
    "**Insight:** There is a spike in revenue in December, April and August.\n",
    "December makes sense as it is holiday season. What drives April and August sales?"
   ]
  },
  {
   "cell_type": "code",
   "execution_count": 10,
   "metadata": {},
   "outputs": [
    {
     "data": {
      "image/png": "[encoded data removed]",
      "text/plain": [
       "<Figure size 432x288 with 1 Axes>"
      ]
     },
     "metadata": {
      "needs_background": "light"
     },
     "output_type": "display_data"
    }
   ],
   "source": [
    "plt.scatter(month_agg.index.values, month_agg['sum'])\n",
    "plt.locator_params(nbins=12)\n",
    "plt.ticklabel_format(axis='y', style='plain')\n",
    "plt.xlabel('Month', fontsize=12)\n",
    "plt.show()"
   ]
  },
  {
   "cell_type": "markdown",
   "metadata": {},
   "source": [
    "**Sum of transactionRevenue daily**"
   ]
  },
  {
   "cell_type": "code",
   "execution_count": 11,
   "metadata": {},
   "outputs": [
    {
     "data": {
      "image/png": "[encoded data removed]",
      "text/plain": [
       "<Figure size 432x288 with 1 Axes>"
      ]
     },
     "metadata": {
      "needs_background": "light"
     },
     "output_type": "display_data"
    }
   ],
   "source": [
    "plt.scatter(day_agg.index.values, day_agg['sum'])\n",
    "plt.locator_params(nbins=10)\n",
    "plt.ticklabel_format(axis='y', style='plain')\n",
    "plt.xlabel('Day', fontsize=12)\n",
    "plt.show()"
   ]
  },
  {
   "cell_type": "markdown",
   "metadata": {},
   "source": [
    "**Insight:** No insights here, useless feature."
   ]
  },
  {
   "cell_type": "markdown",
   "metadata": {},
   "source": [
    "**Sum of transactionRevenue on weekdays**"
   ]
  },
  {
   "cell_type": "code",
   "execution_count": 12,
   "metadata": {},
   "outputs": [
    {
     "data": {
      "image/png": "[encoded data removed]",
      "text/plain": [
       "<Figure size 432x288 with 1 Axes>"
      ]
     },
     "metadata": {
      "needs_background": "light"
     },
     "output_type": "display_data"
    }
   ],
   "source": [
    "plt.scatter(weekday_agg.index.values, weekday_agg['sum'])\n",
    "plt.locator_params(nbins=7)\n",
    "plt.ticklabel_format(axis='y', style='plain')\n",
    "plt.xlabel('Weekday', fontsize=12)\n",
    "plt.show()"
   ]
  },
  {
   "cell_type": "markdown",
   "metadata": {},
   "source": [
    "**Insight:** Weekends bring less revenue than weekdays as it makes sense because Google Office has more visitors during the weekdays - remember it is still a workplace."
   ]
  },
  {
   "cell_type": "markdown",
   "metadata": {},
   "source": [
    "## Prepare data for modeling\n",
    "\n",
    "### Analyzing which Columns are constant"
   ]
  },
  {
   "cell_type": "code",
   "execution_count": 13,
   "metadata": {},
   "outputs": [
    {
     "data": {
      "text/plain": [
       "['socialEngagementType',\n",
       " 'device.browserSize',\n",
       " 'device.browserVersion',\n",
       " 'device.flashVersion',\n",
       " 'device.language',\n",
       " 'device.mobileDeviceBranding',\n",
       " 'device.mobileDeviceInfo',\n",
       " 'device.mobileDeviceMarketingName',\n",
       " 'device.mobileDeviceModel',\n",
       " 'device.mobileInputSelector',\n",
       " 'device.operatingSystemVersion',\n",
       " 'device.screenColors',\n",
       " 'device.screenResolution',\n",
       " 'geoNetwork.cityId',\n",
       " 'geoNetwork.latitude',\n",
       " 'geoNetwork.longitude',\n",
       " 'geoNetwork.networkLocation',\n",
       " 'totals.visits',\n",
       " 'trafficSource.adwordsClickInfo.criteriaParameters']"
      ]
     },
     "execution_count": 13,
     "metadata": {},
     "output_type": "execute_result"
    }
   ],
   "source": [
    "const_cols = [c for c in train_df.columns if train_df[c].nunique(dropna=False)==1 ]\n",
    "const_cols"
   ]
  },
  {
   "cell_type": "markdown",
   "metadata": {},
   "source": [
    "We should also remove the constant columns, as they will bring no bearing to the weights on the model."
   ]
  },
  {
   "cell_type": "code",
   "execution_count": 14,
   "metadata": {},
   "outputs": [],
   "source": [
    "cols_to_drop = const_cols\n",
    "#+ [\"trafficSource.campaignCode\"]\n",
    "train_df = train_df.drop(cols_to_drop,axis=1)\n",
    "test_df = test_df.drop(cols_to_drop, axis=1)"
   ]
  },
  {
   "cell_type": "markdown",
   "metadata": {},
   "source": [
    "Remove columns that primarily contain *null* values. (more than 50%)\n",
    "\n",
    "**Uncomment when running in production**"
   ]
  },
  {
   "cell_type": "code",
   "execution_count": 16,
   "metadata": {},
   "outputs": [
    {
     "name": "stdout",
     "output_type": "stream",
     "text": [
      "Columns that primarily contain null values: \n",
      "totals.bounces\n",
      "totals.totalTransactionRevenue\n",
      "totals.transactionRevenue\n",
      "totals.transactions\n",
      "trafficSource.adwordsClickInfo.adNetworkType\n",
      "trafficSource.adwordsClickInfo.gclId\n",
      "trafficSource.adwordsClickInfo.isVideoAd\n",
      "trafficSource.adwordsClickInfo.page\n",
      "trafficSource.adwordsClickInfo.slot\n",
      "trafficSource.isTrueDirect\n"
     ]
    }
   ],
   "source": [
    "null_columns = [c for c in train_df.columns if train_df[c].count()<=len(train_df) * 0.5]\n",
    "train_df.drop(null_columns, axis=1)\n",
    "null_columns = [c for c in test_df.columns if test_df[c].count()<=len(test_df) * 0.5]\n",
    "test_df.drop(null_columns, axis=1)\n",
    "\n",
    "print(\"Columns that primarily contain null values: \")\n",
    "for c in null_columns:\n",
    "    print(c)"
   ]
  },
  {
   "cell_type": "markdown",
   "metadata": {},
   "source": [
    "### One-hot Encoding"
   ]
  },
  {
   "cell_type": "code",
   "execution_count": null,
   "metadata": {},
   "outputs": [],
   "source": [
    "categorical_features = ['device.isMobile','year', 'month', 'weekday']\n",
    "train_df = pd.get_dummies(train_df, columns=categorical_features)\n",
    "test_df = pd.get_dummies(test_df, columns=categorical_features)"
   ]
  },
  {
   "cell_type": "markdown",
   "metadata": {},
   "source": [
    "Train and Test datasets must be aligned using an outer joing in order to have the same amount of features. It is an important step for training and inference."
   ]
  },
  {
   "cell_type": "code",
   "execution_count": null,
   "metadata": {},
   "outputs": [],
   "source": [
    "train_df, test_df = train_df.align(test_df, join='outer', axis=1)\n",
    "\n",
    "# replace the null values added by join for 0\n",
    "train_df.replace(to_replace=np.nan, value=0, inplace=True)\n",
    "test_df.replace(to_replace=np.nan, value=0, inplace=True)"
   ]
  },
  {
   "cell_type": "markdown",
   "metadata": {},
   "source": [
    "# Developing the Model: LGBM\n",
    "To discover which is the best model to predict the log revenue of customers. We can do a training analysis based on popular models such as LightGBM, ADABOOST and XGBOOST. All these models can be found in scikit-learn.\n",
    "\n",
    "First, we need to build the training and testing dataset respectively."
   ]
  },
  {
   "cell_type": "code",
   "execution_count": null,
   "metadata": {},
   "outputs": [],
   "source": [
    "train_df[\"totals.transactionRevenue\"].fillna(0, inplace=True)\n",
    "cat_cols = [\"channelGrouping\", \"device.browser\", \n",
    "            \"device.deviceCategory\", \"device.operatingSystem\", \n",
    "            \"geoNetwork.city\", \"geoNetwork.continent\", \n",
    "            \"geoNetwork.metro\", \"geoNetwork.country\",\n",
    "            \"geoNetwork.networkDomain\", \"geoNetwork.region\", \n",
    "            \"geoNetwork.subContinent\", \"trafficSource.adContent\", \n",
    "            \"trafficSource.adwordsClickInfo.adNetworkType\", \n",
    "            \"trafficSource.adwordsClickInfo.gclId\", \n",
    "            \"trafficSource.adwordsClickInfo.page\", \n",
    "            \"trafficSource.adwordsClickInfo.slot\", \"trafficSource.campaign\",\n",
    "            \"trafficSource.keyword\", \"trafficSource.medium\", \n",
    "            \"trafficSource.referralPath\", \"trafficSource.source\",\n",
    "            'trafficSource.adwordsClickInfo.isVideoAd', 'trafficSource.isTrueDirect']\n",
    "for col in cat_cols:\n",
    "    print(col)\n",
    "    lbl = preprocessing.LabelEncoder()\n",
    "    lbl.fit(list(train_df[col].values.astype('str')) + list(test_df[col].values.astype('str')))\n",
    "    train_df[col] = lbl.transform(list(train_df[col].values.astype('str')))\n",
    "    test_df[col] = lbl.transform(list(test_df[col].values.astype('str')))\n",
    "\n",
    "num_cols = [\"totals.hits\", \"totals.pageviews\", \"visitNumber\", \"visitStartTime\", 'totals.bounces',  'totals.newVisits']    \n",
    "for col in num_cols:\n",
    "    train_df[col] = train_df[col].astype(float)\n",
    "    test_df[col] = test_df[col].astype(float)\n",
    "\n",
    "train_set,test_set = model_selection.train_test_split(train_df, test_size=0.2)\n",
    "\n",
    "train_Y = np.log1p(train_set[\"totals.transactionRevenue\"].values)\n",
    "val_Y = np.log1p(test_set[\"totals.transactionRevenue\"].values)\n",
    "\n",
    "train_X = train_set[cat_cols+num_cols]\n",
    "val_X = test_set[cat_cols+num_cols]\n",
    "test = test_df[cat_cols + num_cols]"
   ]
  },
  {
   "cell_type": "markdown",
   "metadata": {},
   "source": [
    "## Training Features"
   ]
  },
  {
   "cell_type": "code",
   "execution_count": null,
   "metadata": {},
   "outputs": [],
   "source": [
    "for x in train_X:\n",
    "    print(x)"
   ]
  },
  {
   "cell_type": "markdown",
   "metadata": {},
   "source": [
    "## LightGBM"
   ]
  },
  {
   "cell_type": "code",
   "execution_count": null,
   "metadata": {},
   "outputs": [],
   "source": [
    "## TODO: Build LightGBM training function.\n",
    "def train_with_gbm(train_X,train_Y,val_x,val_y,test_X):\n",
    "    params = {\n",
    "        \"objective\" : \"regression\",\n",
    "        \"metric\" : \"rmse\", \n",
    "        \"num_leaves\" : 30,\n",
    "        \"min_child_samples\" : 100,\n",
    "        \"learning_rate\" : 0.1,\n",
    "        \"bagging_fraction\" : 0.7,\n",
    "        \"feature_fraction\" : 0.5,\n",
    "        \"bagging_frequency\" : 5,\n",
    "        \"bagging_seed\" : 2018,\n",
    "        \"verbosity\" : -1\n",
    "    }\n",
    "    \n",
    "    lgtrain = lgb.Dataset(train_X, label=train_Y)\n",
    "    lgval = lgb.Dataset(val_x, label=val_y)\n",
    "    model = lgb.train(params, lgtrain, 1000, valid_sets=[lgval], early_stopping_rounds=100, verbose_eval=100)\n",
    "    \n",
    "    pred_test_y = model.predict(test_X, num_iteration=model.best_iteration)\n",
    "    pred_val_y = model.predict(val_x, num_iteration=model.best_iteration)\n",
    "    return pred_test_y, model, pred_val_y\n",
    "\n",
    "# Training the model #\n",
    "pred_test, model, pred_val = train_with_gbm(train_X, train_Y, val_X, val_Y, test)"
   ]
  },
  {
   "cell_type": "markdown",
   "metadata": {},
   "source": [
    "## Model Evaluation"
   ]
  },
  {
   "cell_type": "markdown",
   "metadata": {},
   "source": [
    "## Feature Importance"
   ]
  },
  {
   "cell_type": "code",
   "execution_count": null,
   "metadata": {},
   "outputs": [],
   "source": [
    "lgb.plot_importance(model, figsize=(15, 10))\n",
    "plt.show()"
   ]
  },
  {
   "cell_type": "code",
   "execution_count": null,
   "metadata": {},
   "outputs": [],
   "source": [
    "# Make prediction on validation data.\n",
    "val_predictions = model.predict(val_X, num_iteration=model.best_iteration)\n",
    "# Get min and max values of the predictions and labels.\n",
    "min_val = max(max(val_predictions), max(val_Y))\n",
    "max_val = min(min(val_predictions), min(val_Y))\n",
    "\n",
    "# Create dataframe with validation predicitons and labels.\n",
    "val_df = pd.DataFrame({\"Label\":val_Y})\n",
    "val_df[\"Prediction\"] = val_predictions\n",
    "\n",
    "# Plot data\n",
    "sns.set(style=\"darkgrid\")\n",
    "sns.jointplot(y=\"Label\", x=\"Prediction\", data=val_df, kind=\"reg\", color=\"m\", height=10)\n",
    "plt.plot([min_val, max_val], [min_val, max_val], 'm--')\n",
    "plt.show()"
   ]
  },
  {
   "cell_type": "markdown",
   "metadata": {},
   "source": [
    "## Metrics\n",
    "\n",
    "Mean Squared Error is used as a primary metric. "
   ]
  },
  {
   "cell_type": "code",
   "execution_count": null,
   "metadata": {},
   "outputs": [],
   "source": [
    "val_predictions[val_predictions<0] = 0\n",
    "mse = mean_squared_error(val_predictions, val_Y)\n",
    "rmse = np.sqrt(mse)\n",
    "\n",
    "print('Model validation metrics')\n",
    "print('MSE: %.2f' % mse)\n",
    "print('RMSE: %.2f' % rmse)"
   ]
  },
  {
   "cell_type": "markdown",
   "metadata": {},
   "source": [
    "## Create a Submission Dataframe\n",
    "\n",
    "For each visitor id, we predict the **natural log** of the sum of all transactions **per user**.\n",
    "\n",
    "$$ y_{user} = \\sum_{i=1}^n transaction_{user_{i}} $$\n",
    "$$ target_{user} = ln(y_{user} + 1) $$"
   ]
  },
  {
   "cell_type": "code",
   "execution_count": null,
   "metadata": {},
   "outputs": [],
   "source": [
    "predictions = model.predict(test, num_iteration=model.best_iteration)\n",
    "visitor_ids = test_df[\"fullVisitorId\"].values\n",
    "\n",
    "submission = pd.DataFrame({\"fullVisitorId\":visitor_ids})\n",
    "predictions[predictions<0] = 0\n",
    "submission[\"PredictedLogRevenue\"] = predictions\n",
    "submission = submission.groupby(\"fullVisitorId\")[\"PredictedLogRevenue\"].sum().reset_index()\n",
    "submission.columns = [\"fullVisitorId\", \"PredictedLogRevenue\"]\n",
    "submission[\"PredictedLogRevenue\"] = submission[\"PredictedLogRevenue\"]\n",
    "submission.head(10)"
   ]
  },
  {
   "cell_type": "markdown",
   "metadata": {},
   "source": [
    "## Deep Learning Approach"
   ]
  },
  {
   "cell_type": "code",
   "execution_count": null,
   "metadata": {},
   "outputs": [],
   "source": []
  },
  {
   "cell_type": "code",
   "execution_count": null,
   "metadata": {},
   "outputs": [],
   "source": []
  }
 ],
 "metadata": {
  "kernelspec": {
   "display_name": "Python 3",
   "language": "python",
   "name": "python3"
  },
  "language_info": {
   "codemirror_mode": {
    "name": "ipython",
    "version": 3
   },
   "file_extension": ".py",
   "mimetype": "text/x-python",
   "name": "python",
   "nbconvert_exporter": "python",
   "pygments_lexer": "ipython3",
   "version": "3.7.0"
  }
 },
 "nbformat": 4,
 "nbformat_minor": 2
}
