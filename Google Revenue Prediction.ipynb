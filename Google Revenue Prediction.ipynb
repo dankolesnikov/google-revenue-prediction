{
 "cells": [
  {
   "cell_type": "markdown",
   "metadata": {},
   "source": [
    "# Google Revenue Prediction\n",
    "\n",
    "## Kaggle Challenge Description"
   ]
  },
  {
   "cell_type": "markdown",
   "metadata": {},
   "source": [
    "## What are we predicting?\n",
    "We are predicting the **natural log** of the sum of all transactions **per user**.\n",
    "\n",
    "$$ y_{user} = \\sum_{i=1}^n transaction_{user_{i}} $$\n",
    "$$ target_{user} = ln(y_{user} + 1) $$"
   ]
  },
  {
   "cell_type": "markdown",
   "metadata": {},
   "source": [
    "## Data Cleansing \n",
    "\n",
    "Simply change csv_file to either \"test_v2.csv\" or \"train_v2.csv\" to determine which csv to use. Using \"test_v2.csv\" will make it easier to manage for your system."
   ]
  },
  {
   "cell_type": "code",
   "execution_count": 1,
   "metadata": {},
   "outputs": [
    {
     "name": "stdout",
     "output_type": "stream",
     "text": [
      "CPU times: user 728 ms, sys: 360 ms, total: 1.09 s\n",
      "Wall time: 1.71 s\n"
     ]
    }
   ],
   "source": [
    "%%time\n",
    "import pandas as pd\n",
    "import sklearn\n",
    "from sklearn import model_selection, preprocessing, metrics\n",
    "import json\n",
    "import os\n",
    "import matplotlib\n",
    "import matplotlib.pyplot as plt\n",
    "from pandas.io.json import json_normalize\n",
    "import numpy as np\n"
   ]
  },
  {
   "cell_type": "code",
   "execution_count": 2,
   "metadata": {},
   "outputs": [
    {
     "name": "stdout",
     "output_type": "stream",
     "text": [
      "Loading csv file\n",
      "Loading csv file\n",
      "Loading done.\n",
      "CPU times: user 1.38 s, sys: 135 ms, total: 1.52 s\n",
      "Wall time: 1.51 s\n"
     ]
    }
   ],
   "source": [
    "%%time\n",
    "data = 'data'\n",
    "def load_csv(data, csv_file, nrows):\n",
    "    JSON_COLUMNS = ['device', 'geoNetwork', 'totals', 'trafficSource']\n",
    "    print(\"Loading csv file\")\n",
    "    df = pd.read_csv(os.path.join(os.getcwd(),data,csv_file),\n",
    "                    converters={column: json.loads for column in JSON_COLUMNS},\n",
    "                    dtype={'fullVisitorId': 'str'},\n",
    "                    nrows=nrows)\n",
    "\n",
    "    for column in JSON_COLUMNS:\n",
    "        column_as_df = json_normalize(df[column])\n",
    "        column_as_df.columns = [\"%s.%s\" % (column, subcolumn) for subcolumn in column_as_df.columns]\n",
    "        df = df.drop(column, axis=1).merge(column_as_df, right_index=True, left_index=True)\n",
    "    return df\n",
    "\n",
    "# Load both the training csv and testing csv\n",
    "train_df = load_csv(data, \"train_v2.csv\",2000)\n",
    "test_df = load_csv(data, \"test_v2.csv\", 2000)\n",
    "\n",
    "print(\"Loading done.\")\n"
   ]
  },
  {
   "cell_type": "markdown",
   "metadata": {},
   "source": [
    "## Columns and Types\n",
    "Initially we should dissect the data and learn what columns are found inside the csv file."
   ]
  },
  {
   "cell_type": "code",
   "execution_count": 3,
   "metadata": {},
   "outputs": [
    {
     "data": {
      "text/plain": [
       "channelGrouping                                      object\n",
       "customDimensions                                     object\n",
       "date                                                  int64\n",
       "fullVisitorId                                        object\n",
       "hits                                                 object\n",
       "socialEngagementType                                 object\n",
       "visitId                                               int64\n",
       "visitNumber                                           int64\n",
       "visitStartTime                                        int64\n",
       "device.browser                                       object\n",
       "device.browserSize                                   object\n",
       "device.browserVersion                                object\n",
       "device.deviceCategory                                object\n",
       "device.flashVersion                                  object\n",
       "device.isMobile                                        bool\n",
       "device.language                                      object\n",
       "device.mobileDeviceBranding                          object\n",
       "device.mobileDeviceInfo                              object\n",
       "device.mobileDeviceMarketingName                     object\n",
       "device.mobileDeviceModel                             object\n",
       "device.mobileInputSelector                           object\n",
       "device.operatingSystem                               object\n",
       "device.operatingSystemVersion                        object\n",
       "device.screenColors                                  object\n",
       "device.screenResolution                              object\n",
       "geoNetwork.city                                      object\n",
       "geoNetwork.cityId                                    object\n",
       "geoNetwork.continent                                 object\n",
       "geoNetwork.country                                   object\n",
       "geoNetwork.latitude                                  object\n",
       "geoNetwork.longitude                                 object\n",
       "geoNetwork.metro                                     object\n",
       "geoNetwork.networkDomain                             object\n",
       "geoNetwork.networkLocation                           object\n",
       "geoNetwork.region                                    object\n",
       "geoNetwork.subContinent                              object\n",
       "totals.bounces                                       object\n",
       "totals.hits                                          object\n",
       "totals.newVisits                                     object\n",
       "totals.pageviews                                     object\n",
       "totals.sessionQualityDim                             object\n",
       "totals.timeOnSite                                    object\n",
       "totals.totalTransactionRevenue                       object\n",
       "totals.transactionRevenue                            object\n",
       "totals.transactions                                  object\n",
       "totals.visits                                        object\n",
       "trafficSource.adContent                              object\n",
       "trafficSource.adwordsClickInfo.adNetworkType         object\n",
       "trafficSource.adwordsClickInfo.criteriaParameters    object\n",
       "trafficSource.adwordsClickInfo.gclId                 object\n",
       "trafficSource.adwordsClickInfo.isVideoAd             object\n",
       "trafficSource.adwordsClickInfo.page                  object\n",
       "trafficSource.adwordsClickInfo.slot                  object\n",
       "trafficSource.campaign                               object\n",
       "trafficSource.isTrueDirect                           object\n",
       "trafficSource.keyword                                object\n",
       "trafficSource.medium                                 object\n",
       "trafficSource.referralPath                           object\n",
       "trafficSource.source                                 object\n",
       "dtype: object"
      ]
     },
     "execution_count": 3,
     "metadata": {},
     "output_type": "execute_result"
    }
   ],
   "source": [
    "train_df.dtypes"
   ]
  },
  {
   "cell_type": "markdown",
   "metadata": {},
   "source": [
    "### Analyzing which Columns are constant"
   ]
  },
  {
   "cell_type": "code",
   "execution_count": 4,
   "metadata": {},
   "outputs": [
    {
     "data": {
      "text/plain": [
       "['date',\n",
       " 'socialEngagementType',\n",
       " u'device.browserSize',\n",
       " u'device.browserVersion',\n",
       " u'device.flashVersion',\n",
       " u'device.language',\n",
       " u'device.mobileDeviceBranding',\n",
       " u'device.mobileDeviceInfo',\n",
       " u'device.mobileDeviceMarketingName',\n",
       " u'device.mobileDeviceModel',\n",
       " u'device.mobileInputSelector',\n",
       " u'device.operatingSystemVersion',\n",
       " u'device.screenColors',\n",
       " u'device.screenResolution',\n",
       " u'geoNetwork.cityId',\n",
       " u'geoNetwork.latitude',\n",
       " u'geoNetwork.longitude',\n",
       " u'geoNetwork.networkLocation',\n",
       " u'totals.visits',\n",
       " u'trafficSource.adwordsClickInfo.criteriaParameters']"
      ]
     },
     "execution_count": 4,
     "metadata": {},
     "output_type": "execute_result"
    }
   ],
   "source": [
    "const_cols = [c for c in train_df.columns if train_df[c].nunique(dropna=False)==1 ]\n",
    "const_cols"
   ]
  },
  {
   "cell_type": "markdown",
   "metadata": {},
   "source": [
    "We should also remove the constant columns, as they will bring no bearing to the weights on the model."
   ]
  },
  {
   "cell_type": "code",
   "execution_count": 5,
   "metadata": {},
   "outputs": [],
   "source": [
    "cols_to_drop = const_cols\n",
    "#+ [\"trafficSource.campaignCode\"]\n",
    "train_df = train_df.drop(cols_to_drop,axis=1)\n",
    "test_df = test_df.drop(cols_to_drop, axis=1)"
   ]
  },
  {
   "cell_type": "markdown",
   "metadata": {},
   "source": [
    "# Target Variable Exploration\n",
    "\n",
    "We need to sum up the transaction revenue on the user level. Then graph a scatter plot of the natural log.\n"
   ]
  },
  {
   "cell_type": "code",
   "execution_count": 6,
   "metadata": {},
   "outputs": [
    {
     "data": {
      "image/png": "[encoded data removed]",
      "text/plain": [
       "<Figure size 576x432 with 1 Axes>"
      ]
     },
     "metadata": {
      "needs_background": "light"
     },
     "output_type": "display_data"
    }
   ],
   "source": [
    "train_df[\"totals.transactionRevenue\"] = train_df[\"totals.transactionRevenue\"].astype('float')\n",
    "gdf = train_df.groupby(\"fullVisitorId\")[\"totals.transactionRevenue\"].sum().reset_index()\n",
    "\n",
    "plt.figure(figsize=(8,6))\n",
    "plt.scatter(range(gdf.shape[0]), np.sort(np.log1p(gdf[\"totals.transactionRevenue\"].values)))\n",
    "plt.xlabel('Customer', fontsize=12)\n",
    "plt.ylabel('TransactionRevenue', fontsize=12)\n",
    "plt.show()"
   ]
  },
  {
   "cell_type": "markdown",
   "metadata": {},
   "source": [
    "The scatter plot above confirms the 80/20 marketing principle that states 80% of the profits come from 20% of the customers.\n",
    "\n",
    "From this analysis, this would mean that we have a distinct dataset between customers with TransactionRevenue and customers without TransactionRevenue.\n"
   ]
  },
  {
   "cell_type": "markdown",
   "metadata": {},
   "source": [
    "# Developing the model\n",
    "To discover which is the best model to predict the log revenue of customers. We can do a training analysis based on popular models such as LightGBM, ADABOOST and XGBOOST. All these models can be found in scikit-learn.\n",
    "\n",
    "First, we need to build the training and testing dataset respectively."
   ]
  },
  {
   "cell_type": "code",
   "execution_count": 7,
   "metadata": {},
   "outputs": [
    {
     "name": "stdout",
     "output_type": "stream",
     "text": [
      "channelGrouping\n",
      "device.browser\n",
      "device.deviceCategory\n",
      "device.operatingSystem\n",
      "geoNetwork.city\n",
      "geoNetwork.continent\n",
      "geoNetwork.metro\n",
      "geoNetwork.networkDomain\n",
      "geoNetwork.region\n",
      "geoNetwork.subContinent\n",
      "trafficSource.adContent\n",
      "trafficSource.adwordsClickInfo.adNetworkType\n",
      "trafficSource.adwordsClickInfo.gclId\n",
      "trafficSource.adwordsClickInfo.page\n",
      "trafficSource.adwordsClickInfo.slot\n",
      "trafficSource.campaign\n",
      "trafficSource.keyword\n",
      "trafficSource.medium\n",
      "trafficSource.referralPath\n",
      "trafficSource.source\n",
      "trafficSource.adwordsClickInfo.isVideoAd\n",
      "trafficSource.isTrueDirect\n"
     ]
    },
    {
     "data": {
      "text/html": [
       "<div>\n",
       "<style scoped>\n",
       "    .dataframe tbody tr th:only-of-type {\n",
       "        vertical-align: middle;\n",
       "    }\n",
       "\n",
       "    .dataframe tbody tr th {\n",
       "        vertical-align: top;\n",
       "    }\n",
       "\n",
       "    .dataframe thead th {\n",
       "        text-align: right;\n",
       "    }\n",
       "</style>\n",
       "<table border=\"1\" class=\"dataframe\">\n",
       "  <thead>\n",
       "    <tr style=\"text-align: right;\">\n",
       "      <th></th>\n",
       "      <th>channelGrouping</th>\n",
       "      <th>customDimensions</th>\n",
       "      <th>fullVisitorId</th>\n",
       "      <th>hits</th>\n",
       "      <th>visitId</th>\n",
       "      <th>visitNumber</th>\n",
       "      <th>visitStartTime</th>\n",
       "      <th>device.browser</th>\n",
       "      <th>device.deviceCategory</th>\n",
       "      <th>device.isMobile</th>\n",
       "      <th>...</th>\n",
       "      <th>trafficSource.adwordsClickInfo.gclId</th>\n",
       "      <th>trafficSource.adwordsClickInfo.isVideoAd</th>\n",
       "      <th>trafficSource.adwordsClickInfo.page</th>\n",
       "      <th>trafficSource.adwordsClickInfo.slot</th>\n",
       "      <th>trafficSource.campaign</th>\n",
       "      <th>trafficSource.isTrueDirect</th>\n",
       "      <th>trafficSource.keyword</th>\n",
       "      <th>trafficSource.medium</th>\n",
       "      <th>trafficSource.referralPath</th>\n",
       "      <th>trafficSource.source</th>\n",
       "    </tr>\n",
       "  </thead>\n",
       "  <tbody>\n",
       "    <tr>\n",
       "      <th>1762</th>\n",
       "      <td>1</td>\n",
       "      <td>[{'index': '4', 'value': 'Central America'}]</td>\n",
       "      <td>3192129641164034116</td>\n",
       "      <td>[{'hitNumber': '1', 'time': '0', 'hour': '17',...</td>\n",
       "      <td>1508198647</td>\n",
       "      <td>1.0</td>\n",
       "      <td>1.508199e+09</td>\n",
       "      <td>2</td>\n",
       "      <td>0</td>\n",
       "      <td>False</td>\n",
       "      <td>...</td>\n",
       "      <td>237</td>\n",
       "      <td>1</td>\n",
       "      <td>3</td>\n",
       "      <td>3</td>\n",
       "      <td>2</td>\n",
       "      <td>0</td>\n",
       "      <td>31</td>\n",
       "      <td>0</td>\n",
       "      <td>232</td>\n",
       "      <td>0</td>\n",
       "    </tr>\n",
       "    <tr>\n",
       "      <th>318</th>\n",
       "      <td>5</td>\n",
       "      <td>[{'index': '4', 'value': 'North America'}]</td>\n",
       "      <td>7491354664418615966</td>\n",
       "      <td>[{'hitNumber': '1', 'time': '0', 'hour': '11',...</td>\n",
       "      <td>1508180358</td>\n",
       "      <td>5.0</td>\n",
       "      <td>1.508180e+09</td>\n",
       "      <td>2</td>\n",
       "      <td>0</td>\n",
       "      <td>False</td>\n",
       "      <td>...</td>\n",
       "      <td>237</td>\n",
       "      <td>1</td>\n",
       "      <td>3</td>\n",
       "      <td>3</td>\n",
       "      <td>2</td>\n",
       "      <td>0</td>\n",
       "      <td>31</td>\n",
       "      <td>5</td>\n",
       "      <td>17</td>\n",
       "      <td>3</td>\n",
       "    </tr>\n",
       "    <tr>\n",
       "      <th>1115</th>\n",
       "      <td>3</td>\n",
       "      <td>[{'index': '4', 'value': 'Central America'}]</td>\n",
       "      <td>8751766235946943282</td>\n",
       "      <td>[{'hitNumber': '1', 'time': '0', 'hour': '16',...</td>\n",
       "      <td>1508197655</td>\n",
       "      <td>1.0</td>\n",
       "      <td>1.508198e+09</td>\n",
       "      <td>2</td>\n",
       "      <td>0</td>\n",
       "      <td>False</td>\n",
       "      <td>...</td>\n",
       "      <td>237</td>\n",
       "      <td>1</td>\n",
       "      <td>3</td>\n",
       "      <td>3</td>\n",
       "      <td>2</td>\n",
       "      <td>1</td>\n",
       "      <td>3</td>\n",
       "      <td>4</td>\n",
       "      <td>232</td>\n",
       "      <td>15</td>\n",
       "    </tr>\n",
       "    <tr>\n",
       "      <th>60</th>\n",
       "      <td>5</td>\n",
       "      <td>[{'index': '4', 'value': 'North America'}]</td>\n",
       "      <td>5446323589552618007</td>\n",
       "      <td>[{'hitNumber': '1', 'time': '0', 'hour': '12',...</td>\n",
       "      <td>1508181229</td>\n",
       "      <td>2.0</td>\n",
       "      <td>1.508181e+09</td>\n",
       "      <td>2</td>\n",
       "      <td>0</td>\n",
       "      <td>False</td>\n",
       "      <td>...</td>\n",
       "      <td>237</td>\n",
       "      <td>1</td>\n",
       "      <td>3</td>\n",
       "      <td>3</td>\n",
       "      <td>2</td>\n",
       "      <td>0</td>\n",
       "      <td>31</td>\n",
       "      <td>5</td>\n",
       "      <td>27</td>\n",
       "      <td>9</td>\n",
       "    </tr>\n",
       "    <tr>\n",
       "      <th>88</th>\n",
       "      <td>3</td>\n",
       "      <td>[{'index': '4', 'value': 'APAC'}]</td>\n",
       "      <td>8585866264807101623</td>\n",
       "      <td>[{'hitNumber': '1', 'time': '0', 'hour': '21',...</td>\n",
       "      <td>1508212902</td>\n",
       "      <td>1.0</td>\n",
       "      <td>1.508213e+09</td>\n",
       "      <td>2</td>\n",
       "      <td>0</td>\n",
       "      <td>False</td>\n",
       "      <td>...</td>\n",
       "      <td>237</td>\n",
       "      <td>1</td>\n",
       "      <td>3</td>\n",
       "      <td>3</td>\n",
       "      <td>2</td>\n",
       "      <td>1</td>\n",
       "      <td>3</td>\n",
       "      <td>4</td>\n",
       "      <td>232</td>\n",
       "      <td>15</td>\n",
       "    </tr>\n",
       "  </tbody>\n",
       "</table>\n",
       "<p>5 rows × 39 columns</p>\n",
       "</div>"
      ],
      "text/plain": [
       "      channelGrouping                              customDimensions  \\\n",
       "1762                1  [{'index': '4', 'value': 'Central America'}]   \n",
       "318                 5    [{'index': '4', 'value': 'North America'}]   \n",
       "1115                3  [{'index': '4', 'value': 'Central America'}]   \n",
       "60                  5    [{'index': '4', 'value': 'North America'}]   \n",
       "88                  3             [{'index': '4', 'value': 'APAC'}]   \n",
       "\n",
       "            fullVisitorId                                               hits  \\\n",
       "1762  3192129641164034116  [{'hitNumber': '1', 'time': '0', 'hour': '17',...   \n",
       "318   7491354664418615966  [{'hitNumber': '1', 'time': '0', 'hour': '11',...   \n",
       "1115  8751766235946943282  [{'hitNumber': '1', 'time': '0', 'hour': '16',...   \n",
       "60    5446323589552618007  [{'hitNumber': '1', 'time': '0', 'hour': '12',...   \n",
       "88    8585866264807101623  [{'hitNumber': '1', 'time': '0', 'hour': '21',...   \n",
       "\n",
       "         visitId  visitNumber  visitStartTime  device.browser  \\\n",
       "1762  1508198647          1.0    1.508199e+09               2   \n",
       "318   1508180358          5.0    1.508180e+09               2   \n",
       "1115  1508197655          1.0    1.508198e+09               2   \n",
       "60    1508181229          2.0    1.508181e+09               2   \n",
       "88    1508212902          1.0    1.508213e+09               2   \n",
       "\n",
       "      device.deviceCategory  device.isMobile          ...           \\\n",
       "1762                      0            False          ...            \n",
       "318                       0            False          ...            \n",
       "1115                      0            False          ...            \n",
       "60                        0            False          ...            \n",
       "88                        0            False          ...            \n",
       "\n",
       "      trafficSource.adwordsClickInfo.gclId  \\\n",
       "1762                                   237   \n",
       "318                                    237   \n",
       "1115                                   237   \n",
       "60                                     237   \n",
       "88                                     237   \n",
       "\n",
       "      trafficSource.adwordsClickInfo.isVideoAd  \\\n",
       "1762                                         1   \n",
       "318                                          1   \n",
       "1115                                         1   \n",
       "60                                           1   \n",
       "88                                           1   \n",
       "\n",
       "      trafficSource.adwordsClickInfo.page trafficSource.adwordsClickInfo.slot  \\\n",
       "1762                                    3                                   3   \n",
       "318                                     3                                   3   \n",
       "1115                                    3                                   3   \n",
       "60                                      3                                   3   \n",
       "88                                      3                                   3   \n",
       "\n",
       "      trafficSource.campaign  trafficSource.isTrueDirect  \\\n",
       "1762                       2                           0   \n",
       "318                        2                           0   \n",
       "1115                       2                           1   \n",
       "60                         2                           0   \n",
       "88                         2                           1   \n",
       "\n",
       "      trafficSource.keyword  trafficSource.medium  trafficSource.referralPath  \\\n",
       "1762                     31                     0                         232   \n",
       "318                      31                     5                          17   \n",
       "1115                      3                     4                         232   \n",
       "60                       31                     5                          27   \n",
       "88                        3                     4                         232   \n",
       "\n",
       "      trafficSource.source  \n",
       "1762                     0  \n",
       "318                      3  \n",
       "1115                    15  \n",
       "60                       9  \n",
       "88                      15  \n",
       "\n",
       "[5 rows x 39 columns]"
      ]
     },
     "execution_count": 7,
     "metadata": {},
     "output_type": "execute_result"
    }
   ],
   "source": [
    "## TODO: Create a template possible to fit with all the models.\n",
    "## TODO: Divide the training set based on the presence of TransactionRevenue.\n",
    "## TODO: Write metrics visualization code.\n",
    "cat_cols = [\"channelGrouping\", \"device.browser\", \n",
    "            \"device.deviceCategory\", \"device.operatingSystem\", \n",
    "            \"geoNetwork.city\", \"geoNetwork.continent\", \n",
    "            \"geoNetwork.metro\",\n",
    "            \"geoNetwork.networkDomain\", \"geoNetwork.region\", \n",
    "            \"geoNetwork.subContinent\", \"trafficSource.adContent\", \n",
    "            \"trafficSource.adwordsClickInfo.adNetworkType\", \n",
    "            \"trafficSource.adwordsClickInfo.gclId\", \n",
    "            \"trafficSource.adwordsClickInfo.page\", \n",
    "            \"trafficSource.adwordsClickInfo.slot\", \"trafficSource.campaign\",\n",
    "            \"trafficSource.keyword\", \"trafficSource.medium\", \n",
    "            \"trafficSource.referralPath\", \"trafficSource.source\",\n",
    "            'trafficSource.adwordsClickInfo.isVideoAd', 'trafficSource.isTrueDirect']\n",
    "for col in cat_cols:\n",
    "    print(col)\n",
    "    lbl = preprocessing.LabelEncoder()\n",
    "    lbl.fit(list(train_df[col].values.astype('str')) + list(test_df[col].values.astype('str')))\n",
    "    train_df[col] = lbl.transform(list(train_df[col].values.astype('str')))\n",
    "\n",
    "num_cols = [\"totals.hits\", \"totals.pageviews\", \"visitNumber\", \"visitStartTime\", 'totals.bounces',  'totals.newVisits']    \n",
    "for col in num_cols:\n",
    "    train_df[col] = train_df[col].astype(float)\n",
    "    test_df[col] = test_df[col].astype(float)\n",
    "\n",
    "train_set,test_set = model_selection.train_test_split(train_df, test_size=0.2)"
   ]
  },
  {
   "cell_type": "markdown",
   "metadata": {},
   "source": [
    "## LightGBM"
   ]
  },
  {
   "cell_type": "code",
   "execution_count": 8,
   "metadata": {},
   "outputs": [
    {
     "ename": "IndentationError",
     "evalue": "expected an indented block (<ipython-input-8-cff2d4ad1304>, line 2)",
     "output_type": "error",
     "traceback": [
      "\u001b[0;36m  File \u001b[0;32m\"<ipython-input-8-cff2d4ad1304>\"\u001b[0;36m, line \u001b[0;32m2\u001b[0m\n\u001b[0;31m    def train_with_gbm():\u001b[0m\n\u001b[0m                         ^\u001b[0m\n\u001b[0;31mIndentationError\u001b[0m\u001b[0;31m:\u001b[0m expected an indented block\n"
     ]
    }
   ],
   "source": [
    "## TODO: Build LightGBM training function.\n",
    "def train_with_gbm():"
   ]
  },
  {
   "cell_type": "markdown",
   "metadata": {},
   "source": [
    "## ADABOOST "
   ]
  },
  {
   "cell_type": "code",
   "execution_count": null,
   "metadata": {},
   "outputs": [],
   "source": [
    "## TODO: Build ADABOOST training function.\n",
    "def train_with_adaboost():"
   ]
  },
  {
   "cell_type": "markdown",
   "metadata": {},
   "source": [
    "## XGBOOST"
   ]
  },
  {
   "cell_type": "code",
   "execution_count": null,
   "metadata": {},
   "outputs": [],
   "source": [
    "## TODO: Build XGBOOST training function.\n",
    "def train_with_xgboost():"
   ]
  },
  {
   "cell_type": "markdown",
   "metadata": {},
   "source": [
    "## Evaluation"
   ]
  },
  {
   "cell_type": "code",
   "execution_count": null,
   "metadata": {},
   "outputs": [],
   "source": []
  }
 ],
 "metadata": {
  "kernelspec": {
   "display_name": "Python 2",
   "language": "python",
   "name": "python2"
  },
  "language_info": {
   "codemirror_mode": {
    "name": "ipython",
    "version": 2
   },
   "file_extension": ".py",
   "mimetype": "text/x-python",
   "name": "python",
   "nbconvert_exporter": "python",
   "pygments_lexer": "ipython2",
   "version": "2.7.14"
  }
 },
 "nbformat": 4,
 "nbformat_minor": 2
}
