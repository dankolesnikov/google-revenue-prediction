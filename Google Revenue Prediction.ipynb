{
 "cells": [
  {
   "cell_type": "markdown",
   "metadata": {},
   "source": [
    "# Google Revenue Prediction\n",
    "\n",
    "## Kaggle Challenge Description"
   ]
  },
  {
   "cell_type": "markdown",
   "metadata": {},
   "source": [
    "## What are we predicting?\n",
    "We are predicting the **natural log** of the sum of all transactions **per user**.\n",
    "\n",
    "$$ y_{user} = \\sum_{i=1}^n transaction_{user_{i}} $$\n",
    "$$ target_{user} = ln(y_{user} + 1) $$"
   ]
  },
  {
   "cell_type": "markdown",
   "metadata": {},
   "source": [
    "## Data Cleansing "
   ]
  },
  {
   "cell_type": "code",
   "execution_count": 25,
   "metadata": {},
   "outputs": [
    {
     "name": "stdout",
     "output_type": "stream",
     "text": [
      "Wall time: 0 ns\n"
     ]
    }
   ],
   "source": [
    "%%time\n",
    "import pandas as pd\n",
    "import sklearn\n",
    "import json\n",
    "import os\n",
    "import matplotlib\n",
    "import matplotlib.pyplot as plt\n",
    "from pandas.io.json import json_normalize\n",
    "import numpy as np\n"
   ]
  },
  {
   "cell_type": "code",
   "execution_count": 23,
   "metadata": {},
   "outputs": [
    {
     "name": "stdout",
     "output_type": "stream",
     "text": [
      "C:\\Users\\Dan\\Desktop\\google-revenue-prediction\\data\\test_v2.csv\n",
      "Wall time: 839 ms\n"
     ]
    }
   ],
   "source": [
    "%%time\n",
    "csv_file = \"data\\\\test_v2.csv\"\n",
    "JSON_COLUMNS = ['device', 'geoNetwork', 'totals', 'trafficSource']\n",
    "print(os.path.join(os.getcwd(),csv_file))\n",
    "df = pd.read_csv(os.path.join(os.getcwd(),csv_file),\n",
    "                converters={column: json.loads for column in JSON_COLUMNS},\n",
    "                dtype={'fullVisitorId': 'str'},\n",
    "                nrows=2000)\n",
    "\n",
    "for column in JSON_COLUMNS:\n",
    "    column_as_df = json_normalize(df[column])\n",
    "    column_as_df.columns = [\"%s.%s\" % (column, subcolumn) for subcolumn in column_as_df.columns]\n",
    "    df = df.drop(column, axis=1).merge(column_as_df, right_index=True, left_index=True)"
   ]
  },
  {
   "cell_type": "markdown",
   "metadata": {},
   "source": [
    "## Columns and Types"
   ]
  },
  {
   "cell_type": "code",
   "execution_count": 20,
   "metadata": {},
   "outputs": [
    {
     "data": {
      "text/plain": [
       "channelGrouping                                       object\n",
       "customDimensions                                      object\n",
       "date                                                   int64\n",
       "fullVisitorId                                         object\n",
       "hits                                                  object\n",
       "socialEngagementType                                  object\n",
       "visitId                                                int64\n",
       "visitNumber                                            int64\n",
       "visitStartTime                                         int64\n",
       "device.browser                                        object\n",
       "device.browserSize                                    object\n",
       "device.browserVersion                                 object\n",
       "device.deviceCategory                                 object\n",
       "device.flashVersion                                   object\n",
       "device.isMobile                                         bool\n",
       "device.language                                       object\n",
       "device.mobileDeviceBranding                           object\n",
       "device.mobileDeviceInfo                               object\n",
       "device.mobileDeviceMarketingName                      object\n",
       "device.mobileDeviceModel                              object\n",
       "device.mobileInputSelector                            object\n",
       "device.operatingSystem                                object\n",
       "device.operatingSystemVersion                         object\n",
       "device.screenColors                                   object\n",
       "device.screenResolution                               object\n",
       "geoNetwork.city                                       object\n",
       "geoNetwork.cityId                                     object\n",
       "geoNetwork.continent                                  object\n",
       "geoNetwork.country                                    object\n",
       "geoNetwork.latitude                                   object\n",
       "geoNetwork.longitude                                  object\n",
       "geoNetwork.metro                                      object\n",
       "geoNetwork.networkDomain                              object\n",
       "geoNetwork.networkLocation                            object\n",
       "geoNetwork.region                                     object\n",
       "geoNetwork.subContinent                               object\n",
       "totals.bounces                                        object\n",
       "totals.hits                                           object\n",
       "totals.newVisits                                      object\n",
       "totals.pageviews                                      object\n",
       "totals.sessionQualityDim                              object\n",
       "totals.timeOnSite                                     object\n",
       "totals.totalTransactionRevenue                        object\n",
       "totals.transactionRevenue                            float64\n",
       "totals.transactions                                   object\n",
       "totals.visits                                         object\n",
       "trafficSource.adContent                               object\n",
       "trafficSource.adwordsClickInfo.adNetworkType          object\n",
       "trafficSource.adwordsClickInfo.criteriaParameters     object\n",
       "trafficSource.adwordsClickInfo.gclId                  object\n",
       "trafficSource.adwordsClickInfo.isVideoAd              object\n",
       "trafficSource.adwordsClickInfo.page                   object\n",
       "trafficSource.adwordsClickInfo.slot                   object\n",
       "trafficSource.campaign                                object\n",
       "trafficSource.isTrueDirect                            object\n",
       "trafficSource.keyword                                 object\n",
       "trafficSource.medium                                  object\n",
       "trafficSource.referralPath                            object\n",
       "trafficSource.source                                  object\n",
       "dtype: object"
      ]
     },
     "execution_count": 20,
     "metadata": {},
     "output_type": "execute_result"
    }
   ],
   "source": [
    "df.dtypes"
   ]
  },
  {
   "cell_type": "markdown",
   "metadata": {},
   "source": [
    "# Target Variable Exploration\n",
    "\n",
    "We need to sum up the transaction revenue on the user level. Then graph a scatter plot of the natural log.\n"
   ]
  },
  {
   "cell_type": "code",
   "execution_count": 27,
   "metadata": {},
   "outputs": [
    {
     "data": {
      "image/png": "[encoded data removed]",
      "text/plain": [
       "<Figure size 576x432 with 1 Axes>"
      ]
     },
     "metadata": {
      "needs_background": "light"
     },
     "output_type": "display_data"
    }
   ],
   "source": [
    "df[\"totals.transactionRevenue\"] = df[\"totals.transactionRevenue\"].astype('float')\n",
    "gdf = df.groupby(\"fullVisitorId\")[\"totals.transactionRevenue\"].sum().reset_index()\n",
    "\n",
    "plt.figure(figsize=(8,6))\n",
    "plt.scatter(range(gdf.shape[0]), np.sort(np.log1p(gdf[\"totals.transactionRevenue\"].values)))\n",
    "plt.xlabel('Customer', fontsize=12)\n",
    "plt.ylabel('TransactionRevenue', fontsize=12)\n",
    "plt.show()"
   ]
  },
  {
   "cell_type": "markdown",
   "metadata": {},
   "source": [
    "The scatter plot above confirms the 80/20 marketing principle that states 80% of the profits come from 20% of the customers.\n"
   ]
  },
  {
   "cell_type": "code",
   "execution_count": null,
   "metadata": {},
   "outputs": [],
   "source": []
  }
 ],
 "metadata": {
  "kernelspec": {
   "display_name": "Python 3",
   "language": "python",
   "name": "python3"
  },
  "language_info": {
   "codemirror_mode": {
    "name": "ipython",
    "version": 3
   },
   "file_extension": ".py",
   "mimetype": "text/x-python",
   "name": "python",
   "nbconvert_exporter": "python",
   "pygments_lexer": "ipython3",
   "version": "3.7.1"
  }
 },
 "nbformat": 4,
 "nbformat_minor": 2
}
